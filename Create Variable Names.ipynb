{
 "cells": [
  {
   "attachments": {},
   "cell_type": "markdown",
   "metadata": {},
   "source": [
    "# Creating Estimating Equations from Data Frames for PyMC and BAMBI\n",
    "\n",
    "The following functions are designed to automatically output estimating equations for use in PyMC and BAMBI."
   ]
  },
  {
   "attachments": {},
   "cell_type": "markdown",
   "metadata": {},
   "source": [
    "We first create an example Pandas Data Frame for use in the following functions"
   ]
  },
  {
   "cell_type": "code",
   "execution_count": 2,
   "metadata": {},
   "outputs": [
    {
     "data": {
      "text/html": [
       "<div>\n",
       "<style scoped>\n",
       "    .dataframe tbody tr th:only-of-type {\n",
       "        vertical-align: middle;\n",
       "    }\n",
       "\n",
       "    .dataframe tbody tr th {\n",
       "        vertical-align: top;\n",
       "    }\n",
       "\n",
       "    .dataframe thead th {\n",
       "        text-align: right;\n",
       "    }\n",
       "</style>\n",
       "<table border=\"1\" class=\"dataframe\">\n",
       "  <thead>\n",
       "    <tr style=\"text-align: right;\">\n",
       "      <th></th>\n",
       "      <th>Name</th>\n",
       "      <th>Age</th>\n",
       "      <th>Education</th>\n",
       "      <th>Income</th>\n",
       "    </tr>\n",
       "  </thead>\n",
       "  <tbody>\n",
       "    <tr>\n",
       "      <th>0</th>\n",
       "      <td>Tom</td>\n",
       "      <td>25</td>\n",
       "      <td>16</td>\n",
       "      <td>55000</td>\n",
       "    </tr>\n",
       "    <tr>\n",
       "      <th>1</th>\n",
       "      <td>Nick</td>\n",
       "      <td>35</td>\n",
       "      <td>16</td>\n",
       "      <td>75000</td>\n",
       "    </tr>\n",
       "    <tr>\n",
       "      <th>2</th>\n",
       "      <td>Juli</td>\n",
       "      <td>44</td>\n",
       "      <td>16</td>\n",
       "      <td>125000</td>\n",
       "    </tr>\n",
       "    <tr>\n",
       "      <th>3</th>\n",
       "      <td>Don</td>\n",
       "      <td>20</td>\n",
       "      <td>14</td>\n",
       "      <td>50000</td>\n",
       "    </tr>\n",
       "    <tr>\n",
       "      <th>4</th>\n",
       "      <td>Ella</td>\n",
       "      <td>18</td>\n",
       "      <td>12</td>\n",
       "      <td>35000</td>\n",
       "    </tr>\n",
       "  </tbody>\n",
       "</table>\n",
       "</div>"
      ],
      "text/plain": [
       "   Name  Age  Education  Income\n",
       "0   Tom   25         16   55000\n",
       "1  Nick   35         16   75000\n",
       "2  Juli   44         16  125000\n",
       "3   Don   20         14   50000\n",
       "4  Ella   18         12   35000"
      ]
     },
     "execution_count": 2,
     "metadata": {},
     "output_type": "execute_result"
    }
   ],
   "source": [
    "# Import pandas library\n",
    "import pandas as pd\n",
    "  \n",
    "# initialize list of lists\n",
    "data = [['Tom', 25,16,'55000'], ['Nick', 35,16,'75000'], ['Juli', 44,16,'125000'],['Don', 20,14,'50000'],['Ella',18,12,'35000']]\n",
    "  \n",
    "# Create the pandas DataFrame\n",
    "df = pd.DataFrame(data, columns=['Name', 'Age', 'Education', 'Income'])\n",
    "  \n",
    "# print dataframe.\n",
    "df"
   ]
  },
  {
   "attachments": {},
   "cell_type": "markdown",
   "metadata": {},
   "source": [
    "The following function will output an estimating equation formatted for use in BAMBI.\n",
    "\n",
    "The dependent input is a string variable for the dependent variable and the independent input is a list with the independent variables that you wish to use in your regression model."
   ]
  },
  {
   "cell_type": "code",
   "execution_count": 3,
   "metadata": {},
   "outputs": [],
   "source": [
    "def bambi_equation(dependent,independent):\n",
    "    vars = independent\n",
    "    number_of_vars = len(vars)\n",
    "   \n",
    "    for i in range(number_of_vars):\n",
    "        if i==0:\n",
    "            print(f'\\'{dependent} ~ ', end = \"\")\n",
    "        if i<number_of_vars-1:\n",
    "            print(f'{vars[i]} + ', end = \"\")\n",
    "        else:\n",
    "            print(f'{vars[i]}\\'')"
   ]
  },
  {
   "attachments": {},
   "cell_type": "markdown",
   "metadata": {},
   "source": [
    "The following function call will create a string variable with an estimating equation formatted for use with BAMBI. The dependent variable is Age and the explanatory variables are Education and Income.\n",
    "\n",
    "The output can be copied into your BAMBI code."
   ]
  },
  {
   "cell_type": "code",
   "execution_count": 4,
   "metadata": {},
   "outputs": [
    {
     "name": "stdout",
     "output_type": "stream",
     "text": [
      "'Age ~ Education + Income'\n"
     ]
    }
   ],
   "source": [
    "bambi_equation('Age',['Education','Income'])"
   ]
  },
  {
   "attachments": {},
   "cell_type": "markdown",
   "metadata": {},
   "source": [
    "The next function will create a BAMBI formatted estimating equation that specifies the depndent variable and uses all of the other variables in the dataframe as explanatory variables."
   ]
  },
  {
   "cell_type": "code",
   "execution_count": 5,
   "metadata": {},
   "outputs": [],
   "source": [
    "def bambi_equation_all(df,dependent):\n",
    "    \n",
    "    vars = df.columns.drop(dependent)\n",
    "    number_of_vars = len(vars)\n",
    "   \n",
    "    for i in range(number_of_vars):\n",
    "        if i==0:\n",
    "            print(f'\\'{dependent} ~ ', end = \"\")\n",
    "        if i<number_of_vars-1:\n",
    "            print(f'{vars[i]} + ', end = \"\")\n",
    "        else:\n",
    "            print(f'{vars[i]}\\'')"
   ]
  },
  {
   "attachments": {},
   "cell_type": "markdown",
   "metadata": {},
   "source": [
    "The function call inputs the dataframe and the name of the dependent variable and then prints a string for use in BAMBI with an estimating equation using all other variables in the dataframe as independent variables. Again, the output can be copied into your BAMBI code."
   ]
  },
  {
   "cell_type": "code",
   "execution_count": 6,
   "metadata": {},
   "outputs": [
    {
     "name": "stdout",
     "output_type": "stream",
     "text": [
      "'Age ~ Name + Education + Income'\n"
     ]
    }
   ],
   "source": [
    "bambi_equation_all(df,'Age')"
   ]
  },
  {
   "attachments": {},
   "cell_type": "markdown",
   "metadata": {},
   "source": [
    "The next function will create a PyMC formatted estimating equation that specifies the depndent variable (i.e., the variable that you do not want in the equation) and uses all of the other variables in the dataframe as explanatory variables. Note tha the prior distribution for the regression coefficients are called beta.\n",
    "\n",
    "The results can be copied into your PyMC code."
   ]
  },
  {
   "cell_type": "code",
   "execution_count": 7,
   "metadata": {},
   "outputs": [],
   "source": [
    "def pymc_equation_all(df,dependent):\n",
    "    \n",
    "    vars = df.columns.drop(dependent)\n",
    "    number_of_vars = len(vars)\n",
    "   \n",
    "    for i in range(number_of_vars):\n",
    "        if i==0:\n",
    "            print(f' intercept + ', end = \"\")\n",
    "        if i<number_of_vars-1:\n",
    "            print(f'beta[{i}]*df[\\'' + vars[i] + '\\'] + ',end='')\n",
    "        else:\n",
    "            print(f'beta[{i}]*df[\\'' + vars[i] + '\\']')"
   ]
  },
  {
   "cell_type": "code",
   "execution_count": 8,
   "metadata": {},
   "outputs": [
    {
     "name": "stdout",
     "output_type": "stream",
     "text": [
      " intercept + beta[0]*df['Name'] + beta[1]*df['Education'] + beta[2]*df['Income']\n"
     ]
    }
   ],
   "source": [
    "pymc_equation_all(df,'Age')"
   ]
  },
  {
   "attachments": {},
   "cell_type": "markdown",
   "metadata": {},
   "source": [
    "Finally, the following function will output an estimating equations formatted for use in PyMC.\n",
    "\n",
    "The dependent input is a string variable for the dependent variable and the independent input is a list with the independent variables that you wish to use in your regression model.\n",
    "\n",
    "The result can be copied into your PyMC code."
   ]
  },
  {
   "cell_type": "code",
   "execution_count": 9,
   "metadata": {},
   "outputs": [],
   "source": [
    "def pymc_equation(independent):\n",
    "    vars = independent\n",
    "    number_of_vars = len(vars)\n",
    "   \n",
    "    for i in range(number_of_vars):\n",
    "        if i==0:\n",
    "            print(f'intercept + ', end = \"\")\n",
    "        if i<number_of_vars-1:\n",
    "            print(f'beta[{i}]*df[\\'' + vars[i] + '\\'] + ',end='')\n",
    "        else:\n",
    "            print(f'beta[{i}]*df[\\'' + vars[i] + '\\']')"
   ]
  },
  {
   "attachments": {},
   "cell_type": "markdown",
   "metadata": {},
   "source": [
    "The following function call will create a string variable with an estimating equation formatted for use with BAMBI. The dependent variable is Age and the explanatory variables are Gender and Income."
   ]
  },
  {
   "cell_type": "code",
   "execution_count": 10,
   "metadata": {},
   "outputs": [
    {
     "name": "stdout",
     "output_type": "stream",
     "text": [
      "intercept + beta[0]*df['Education'] + beta[1]*df['Income']\n"
     ]
    }
   ],
   "source": [
    "pymc_equation(['Education','Income'])"
   ]
  }
 ],
 "metadata": {
  "kernelspec": {
   "display_name": "pymc_env",
   "language": "python",
   "name": "python3"
  },
  "language_info": {
   "codemirror_mode": {
    "name": "ipython",
    "version": 3
   },
   "file_extension": ".py",
   "mimetype": "text/x-python",
   "name": "python",
   "nbconvert_exporter": "python",
   "pygments_lexer": "ipython3",
   "version": "3.11.0"
  },
  "orig_nbformat": 4
 },
 "nbformat": 4,
 "nbformat_minor": 2
}
